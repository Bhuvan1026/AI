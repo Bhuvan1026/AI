{
 "cells": [
  {
   "cell_type": "markdown",
   "id": "971531fd",
   "metadata": {},
   "source": [
    "# BFS\n",
    "  \n",
    "                 "
   ]
  },
  {
   "cell_type": "code",
   "execution_count": 26,
   "id": "293ade19",
   "metadata": {},
   "outputs": [
    {
     "name": "stdout",
     "output_type": "stream",
     "text": [
      "0 \n",
      "\n",
      "1 \n",
      "\n",
      "2 \n",
      "\n",
      "3 \n",
      "\n",
      "4 \n",
      "\n"
     ]
    }
   ],
   "source": [
    "def bfs(graph,start):\n",
    "    explored=[]\n",
    "    frontier=[]\n",
    "    explored.append(start)\n",
    "    frontier.append(start)\n",
    "    while(frontier):\n",
    "        node=frontier.pop(0)\n",
    "        print(node,\"\\n\")\n",
    "        for neighbor in graph[node]:\n",
    "            if neighbor not in explored:\n",
    "                explored.append(neighbor)\n",
    "                frontier.append(neighbor)\n",
    "                \n",
    "\n",
    "graph={0:[1,2],1:[3],2:[3,4],3:[4],4:[0]}\n",
    "bfs(graph,0)"
   ]
  },
  {
   "cell_type": "markdown",
   "id": "d9265ed1",
   "metadata": {},
   "source": [
    "# DFS TRAVERSAL with goal"
   ]
  },
  {
   "cell_type": "code",
   "execution_count": 25,
   "id": "b7894455",
   "metadata": {},
   "outputs": [
    {
     "name": "stdout",
     "output_type": "stream",
     "text": [
      "0 2 4 3 goal found\n"
     ]
    }
   ],
   "source": [
    "def dfs(graph,start,goal):\n",
    "    explored=[]\n",
    "    frontier=[]\n",
    "    explored.append(start)\n",
    "    frontier.append(start)\n",
    "    while frontier:\n",
    "        node=frontier.pop()\n",
    "        print(node,end=\" \")\n",
    "        if(node==goal):\n",
    "            print(\"goal found\")\n",
    "            break\n",
    "        for neighbor in graph[node]:\n",
    "            if neighbor not in explored:\n",
    "                explored.append(neighbor)\n",
    "                frontier.append(neighbor)\n",
    "\n",
    "graph={0:[1,2],1:[4],2:[3,4],3:[1,4],4:[]}\n",
    "dfs(graph,0,3)"
   ]
  }
 ],
 "metadata": {
  "kernelspec": {
   "display_name": "Python 3 (ipykernel)",
   "language": "python",
   "name": "python3"
  },
  "language_info": {
   "codemirror_mode": {
    "name": "ipython",
    "version": 3
   },
   "file_extension": ".py",
   "mimetype": "text/x-python",
   "name": "python",
   "nbconvert_exporter": "python",
   "pygments_lexer": "ipython3",
   "version": "3.11.3"
  }
 },
 "nbformat": 4,
 "nbformat_minor": 5
}
