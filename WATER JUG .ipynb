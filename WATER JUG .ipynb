{
 "cells": [
  {
   "cell_type": "code",
   "execution_count": null,
   "id": "98bd4b74",
   "metadata": {},
   "outputs": [],
   "source": []
  },
  {
   "cell_type": "markdown",
   "id": "62a2d5cb",
   "metadata": {},
   "source": [
    "# water jug"
   ]
  },
  {
   "cell_type": "code",
   "execution_count": 1,
   "id": "58301a0e",
   "metadata": {},
   "outputs": [],
   "source": [
    "def display():\n",
    "    print(\"select the rule to be applied\")\n",
    "    print(\"rule1:fill jug1\")\n",
    "    print(\"rule2:fill jug2\")\n",
    "    print('rule3:empty jug1')\n",
    "    print('rule4:empty jug4')\n",
    "    print('rule5:transfer all water form jug2 to jug1')\n",
    "    print('rule6:transfer all water from jug1 to jug2')\n",
    "    print('rule7:transfer some water from jug2 to jug1 until jug1 is full')\n",
    "    print('rule8:transfer some water from jug1 to jug2 until jug2 is full')"
   ]
  },
  {
   "cell_type": "code",
   "execution_count": 5,
   "id": "5fb270cc",
   "metadata": {},
   "outputs": [],
   "source": [
    "def apply_rule(ch,x,y):\n",
    "    #rule1: fill jug 1\n",
    "    if ch==1:\n",
    "        if(x<j1):\n",
    "            return j1,y\n",
    "        else:\n",
    "            print(\"rule cant apply\")\n",
    "            return x,y\n",
    "    #rule2: fill jug2\n",
    "    elif ch==2:\n",
    "        if(y<j2):\n",
    "            return j2,y\n",
    "        else:\n",
    "            print(\"rule cant apply\")\n",
    "            return x,y\n",
    "    #rul3:empty jug 1\n",
    "    elif ch==3:\n",
    "        if(x>0):\n",
    "            return 0,y\n",
    "        else:\n",
    "            print(\"rule cant applied\")\n",
    "            return x,y\n",
    "    #rule 4: empty jug 2\n",
    "    elif ch==4:\n",
    "        if(y>0):\n",
    "            return x,0\n",
    "        else:\n",
    "            print(\"ruke cant\")\n",
    "            return x,y\n",
    "    #rule 5: pour water from jug 2 to jug1 until jug 2 is empty\n",
    "    elif ch==5:\n",
    "        if x+y<=j1 and y>0:\n",
    "            return x+y,0\n",
    "        else:\n",
    "            print(\"rule cant\")\n",
    "            return x,y\n",
    "    #rule 6: pour water from jug 1 to jug 2 until jug1 is empty\n",
    "    elif ch==6:\n",
    "        if x+y<=j2 and x>0:\n",
    "            return 0,x+y\n",
    "        else:\n",
    "            print(\"rule cant\")\n",
    "            return x,y\n",
    "        #rule 7: pour some water from jug 2 to jug1 \n",
    "    elif ch==7:\n",
    "        if x+y>=j1 and y>0:\n",
    "            return j1,y-(j1-x)\n",
    "        else:\n",
    "            print(\"rule camnt\")\n",
    "            return x,y\n",
    "            #rule 8: pour some water from jug 1 to jug2\n",
    "    elif ch==8:\n",
    "        if x+y>=j2 and x>0:\n",
    "            return  x-(j2-y),j2\n",
    "        else:\n",
    "            print(\"cant\")\n",
    "            return x,y\n",
    "    else:\n",
    "        print(\"invalid choice\")\n",
    "        \n",
    "        \n",
    "        "
   ]
  },
  {
   "cell_type": "code",
   "execution_count": 6,
   "id": "8081b567",
   "metadata": {},
   "outputs": [
    {
     "name": "stdout",
     "output_type": "stream",
     "text": [
      "enter capacity of j15\n",
      "enter the capacity of j23\n",
      "4\n",
      "enter rule to apply1\n",
      "current values of x and y 5 0\n",
      "enter rule to apply8\n",
      "current values of x and y 2 3\n",
      "enter rule to apply4\n",
      "current values of x and y 2 0\n",
      "enter rule to apply6\n",
      "current values of x and y 0 2\n",
      "enter rule to apply1\n",
      "current values of x and y 5 2\n",
      "enter rule to apply8\n",
      "current values of x and y 4 3\n",
      "goal achieved\n"
     ]
    }
   ],
   "source": [
    "j1=int(input(\"enter capacity of j1\"))\n",
    "j2=int(input(\"enter the capacity of j2\"))\n",
    "x=y=0\n",
    "g=int(input())\n",
    "while(True):\n",
    "    if(x==g or y==g):\n",
    "        print(\"goal achieved\")\n",
    "        break\n",
    "    else:\n",
    "        #display()\n",
    "        ch=int(input(\"enter rule to apply\"))\n",
    "        x,y=apply_rule(ch,x,y)\n",
    "        print(\"current values of x and y\",x,y)\n"
   ]
  },
  {
   "cell_type": "code",
   "execution_count": null,
   "id": "a4c7c567",
   "metadata": {},
   "outputs": [],
   "source": []
  }
 ],
 "metadata": {
  "kernelspec": {
   "display_name": "Python 3 (ipykernel)",
   "language": "python",
   "name": "python3"
  },
  "language_info": {
   "codemirror_mode": {
    "name": "ipython",
    "version": 3
   },
   "file_extension": ".py",
   "mimetype": "text/x-python",
   "name": "python",
   "nbconvert_exporter": "python",
   "pygments_lexer": "ipython3",
   "version": "3.11.3"
  }
 },
 "nbformat": 4,
 "nbformat_minor": 5
}
